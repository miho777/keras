{
  "nbformat": 4,
  "nbformat_minor": 0,
  "metadata": {
    "colab": {
      "name": "GURU-Prework-1a.ipynb",
      "provenance": [],
      "authorship_tag": "ABX9TyOHpE/3HwGezq7vzQcD40zU",
      "include_colab_link": true
    },
    "kernelspec": {
      "name": "python3",
      "display_name": "Python 3"
    }
  },
  "cells": [
    {
      "cell_type": "markdown",
      "metadata": {
        "id": "view-in-github",
        "colab_type": "text"
      },
      "source": [
        "<a href=\"https://colab.research.google.com/github/miho777/keras/blob/master/GURU_Prework_1a.ipynb\" target=\"_parent\"><img src=\"https://colab.research.google.com/assets/colab-badge.svg\" alt=\"Open In Colab\"/></a>"
      ]
    },
    {
      "cell_type": "markdown",
      "metadata": {
        "id": "4L1ChF_eatsB",
        "colab_type": "text"
      },
      "source": [
        "**ストレージGURU会 2020夏プリワーク**   \n",
        "限られた時間でハンズオンラボを実施するためプリワークの実施をお願いします。  \n",
        "（所要時間目安10-30分）\n",
        "\n",
        "---\n",
        "\n",
        "\n",
        "「プリワークその１」  \n",
        "\n",
        "\n",
        "\n",
        "下記URLサイトを読んでおいてください。  \n",
        "各ページからのリンク先は必須ではありません。\n",
        "\n",
        "Google Colaboratory(ML/DL実行環境)について：  \n",
        "https://www.youtube.com/watch?v=B19MO1EtwKM (2倍速で見れます)  \n",
        "https://aizine.ai/google-colaboratory-0406/  \n",
        " \n",
        "\n",
        "\n",
        "MNIST（サンプルデータセット）について:  \n",
        "https://www.atmarkit.co.jp/ait/articles/2001/22/news012.html\n",
        "  \n",
        "  \n",
        "  \n",
        "\n",
        "---  \n",
        "「プリワークその２」  \n",
        "下のコードセルを実行して、結果を確認して下さい。  \n",
        "このように出力されたらOK：  \n",
        "*Python 3.6.9*  \n",
        "*Hello GURU!*"
      ]
    },
    {
      "cell_type": "code",
      "metadata": {
        "id": "eHGiKfPGaLt4",
        "colab_type": "code",
        "colab": {
          "base_uri": "https://localhost:8080/",
          "height": 53
        },
        "outputId": "23038b06-6bf1-4ff7-cf08-56ee76e622c6"
      },
      "source": [
        "# コードセル for GURU pre-work\n",
        "!python -V\n",
        "print(\"Hello GURU!\")"
      ],
      "execution_count": null,
      "outputs": [
        {
          "output_type": "stream",
          "text": [
            "Python 3.6.9\n",
            "Hello GURU!\n"
          ],
          "name": "stdout"
        }
      ]
    },
    {
      "cell_type": "markdown",
      "metadata": {
        "id": "u5aMrzAXmVjf",
        "colab_type": "text"
      },
      "source": [
        "  \n",
        "  \n",
        "\n",
        "---\n",
        "\n",
        "\n",
        "**下記はオプションです**。  \n",
        "興味のある方、余力のある方は目を通しておいてください。\n",
        "\n",
        "Google Colab:  \n",
        "https://research.google.com/colaboratory/faq.html  \n",
        "https://www.codexa.net/how-to-use-google-colaboratory/\n",
        "\n",
        "Kerasについて:  \n",
        "https://keras.io/ja/\n",
        "\n",
        "ニューラルネットワークについて:  \n",
        "https://www.codexa.net/cnn-mnist-keras-beginner/  \n",
        "https://www.atmarkit.co.jp/ait/articles/2005/29/news029.html  \n",
        "\n",
        "**では当日の参加をお待ちしています**\n"
      ]
    }
  ]
}